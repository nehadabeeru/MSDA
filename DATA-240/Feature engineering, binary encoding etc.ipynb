{
  "nbformat": 4,
  "nbformat_minor": 0,
  "metadata": {
    "colab": {
      "provenance": []
    },
    "kernelspec": {
      "name": "python3",
      "display_name": "Python 3"
    },
    "language_info": {
      "name": "python"
    }
  },
  "cells": [
    {
      "cell_type": "code",
      "execution_count": 1,
      "metadata": {
        "colab": {
          "base_uri": "https://localhost:8080/"
        },
        "id": "msd9sUrA-RiB",
        "outputId": "0ecbe2a5-bbf0-40b8-dade-12ddd9f2306c"
      },
      "outputs": [
        {
          "output_type": "stream",
          "name": "stdout",
          "text": [
            "The final derived dataset has been saved to: /content/drive/MyDrive/DM_Project_Churn_rate/final_derived_dataset1.csv\n"
          ]
        }
      ],
      "source": [
        "import pandas as pd\n",
        "\n",
        "# Load the original dataset\n",
        "original_dataset_path = '/content/drive/MyDrive/DM_Project_Churn_rate/WA_Fn-UseC_-Telco-Customer-Churn.csv'\n",
        "original_df = pd.read_csv(original_dataset_path)\n",
        "\n",
        "# Step 1: Drop irrelevant columns\n",
        "columns_to_drop = [\n",
        "    \"customerID\", \"OnlineSecurity\", \"OnlineBackup\", \"DeviceProtection\",\n",
        "    \"TechSupport\", \"StreamingTV\", \"StreamingMovies\", \"TotalCharges\"\n",
        "]\n",
        "processed_df = original_df.drop(columns=columns_to_drop)\n",
        "\n",
        "# Step 2: Binary Encoding for categorical values\n",
        "processed_df[\"Gender\"] = processed_df[\"gender\"].map({\"Female\": 0, \"Male\": 1})\n",
        "processed_df[\"Partner\"] = processed_df[\"Partner\"].map({\"Yes\": 1, \"No\": 0})\n",
        "processed_df[\"Dependents\"] = processed_df[\"Dependents\"].map({\"Yes\": 1, \"No\": 0})\n",
        "processed_df[\"PhoneService\"] = processed_df[\"PhoneService\"].map({\"Yes\": 1, \"No\": 0})\n",
        "processed_df[\"MultipleLines\"] = processed_df[\"MultipleLines\"].map({\n",
        "    \"No phone service\": 0, \"No\": 0, \"Yes\": 1\n",
        "})\n",
        "processed_df[\"Contract\"] = processed_df[\"Contract\"].map({\n",
        "    \"Month-to-month\": 0, \"One year\": 1, \"Two year\": 2\n",
        "})\n",
        "processed_df[\"PaperlessBilling\"] = processed_df[\"PaperlessBilling\"].map({\"Yes\": 1, \"No\": 0})\n",
        "processed_df[\"PaymentMethod\"] = original_df[\"PaymentMethod\"].map({\n",
        "    \"Electronic check\": 0,\n",
        "    \"Mailed check\": 0,\n",
        "    \"Bank transfer (automatic)\": 1,\n",
        "    \"Credit card (automatic)\": 1\n",
        "})\n",
        "processed_df[\"Churn\"] = processed_df[\"Churn\"].map({\"No\": 0, \"Yes\": 1})\n",
        "\n",
        "# Step 3: Feature Engineering\n",
        "processed_df[\"PremiumServices\"] = original_df[[\n",
        "    \"OnlineSecurity\", \"OnlineBackup\", \"DeviceProtection\",\n",
        "    \"TechSupport\", \"StreamingTV\", \"StreamingMovies\"\n",
        "]].apply(lambda x: int(any(val == \"Yes\" for val in x)), axis=1)\n",
        "\n",
        "processed_df[\"DSL\"] = (original_df[\"InternetService\"] == \"DSL\").astype(int)\n",
        "processed_df[\"Fiber\"] = (original_df[\"InternetService\"] == \"Fiber optic\").astype(int)\n",
        "\n",
        "# InternetService logic correction\n",
        "processed_df[\"InternetService\"] = processed_df[\"DSL\"] + processed_df[\"Fiber\"]\n",
        "\n",
        "# Step 4: Retain relevant columns and ensure final column order\n",
        "final_columns = [\n",
        "    \"Gender\", \"SeniorCitizen\", \"Partner\", \"Dependents\",\n",
        "    \"PhoneService\", \"MultipleLines\", \"InternetService\", \"DSL\",\n",
        "    \"Fiber\", \"PremiumServices\", \"Contract\", \"PaperlessBilling\",\n",
        "    \"PaymentMethod\", \"tenure\", \"MonthlyCharges\", \"Churn\"\n",
        "]\n",
        "processed_df = processed_df[final_columns]\n",
        "\n",
        "# Step 5: Align tenure and MonthlyCharges exactly\n",
        "processed_df[\"tenure\"] = original_df[\"tenure\"]\n",
        "processed_df[\"MonthlyCharges\"] = original_df[\"MonthlyCharges\"].round(0).astype(int)\n",
        "\n",
        "# Save the final dataset to a CSV file\n",
        "output_path = '/content/drive/MyDrive/DM_Project_Churn_rate/final_derived_dataset1.csv'\n",
        "processed_df.to_csv(output_path, index=False)\n",
        "\n",
        "# Confirm the file is ready\n",
        "print(f\"The final derived dataset has been saved to: {output_path}\")\n"
      ]
    }
  ]
}